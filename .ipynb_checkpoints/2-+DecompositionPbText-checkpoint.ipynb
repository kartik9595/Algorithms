{
 "cells": [
  {
   "cell_type": "markdown",
   "metadata": {},
   "source": [
    "To solve a problem, the first step is to try to decompose it into several sub-problems. Then each sub-problems can be  decomposed into smaller sub-problems and so on...\n",
    "\n",
    "Recall that the subject of the project is the folowing : \n",
    "\n",
    "_The aim of this project is to analyse a text in order to detect its language. For that, we propose to find the occurrence frequencies of the characters in the text. We will considered these frequencies as a  probability distribution that will be used for several purposes :_\n",
    "* _detect the language of this text by comparing this distribution with several distribution probabilities of  languages (english, french, spanish, ...)_\n",
    "* _compress this text by using a compression algorithm (Huffman coding) based on this probability distribution_\n",
    "\n",
    "\n",
    "The exercice proposed in this notebook is simply to decompose the global problem (the project) into sub-projects. Then, do the same for each sub-problems and so on. This decomposition must be written in natural language (english) in a new Markdown cell.  \n",
    "\n",
    "Of course, some parts of the algorithm could not be clear (for example, you probably don't known yet the Huffman algorithm), so for these parts, keep a high level of description and focus on the other ones.\n",
    "\n",
    "k.venkatraman\n",
    "\n",
    "Thoughs on the program\n",
    "Programming concepts involved:\n",
    "1. Decomposition of problem into sub problems.\n",
    "2. Use different algorithms such has huffman algorithm for compression and decompression of text.\n",
    "\n",
    "We first need to identify the characters in the entered text and then recognize those characters. We then need to compare the database of languages and identify the matching characters to let us know which language the text is in. The probability distributions of the various languages are computed and the K-L divergences are calculated. The language which has the minimum value of divergence is found to be the language closest to the text.  "
   ]
  }
 ],
 "metadata": {
  "kernelspec": {
   "display_name": "Python 3",
   "language": "python",
   "name": "python3"
  },
  "language_info": {
   "codemirror_mode": {
    "name": "ipython",
    "version": 3
   },
   "file_extension": ".py",
   "mimetype": "text/x-python",
   "name": "python",
   "nbconvert_exporter": "python",
   "pygments_lexer": "ipython3",
   "version": "3.6.1"
  }
 },
 "nbformat": 4,
 "nbformat_minor": 1
}
